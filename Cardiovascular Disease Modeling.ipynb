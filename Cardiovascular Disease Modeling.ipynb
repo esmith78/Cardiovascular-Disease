{
 "cells": [
  {
   "cell_type": "markdown",
   "metadata": {},
   "source": [
    "## **Data source**\n",
    "\n",
    "https://www.kaggle.com/sulianova/cardiovascular-disease-dataset#cardio_train.csv"
   ]
  },
  {
   "cell_type": "markdown",
   "metadata": {},
   "source": [
    "## Import packages"
   ]
  },
  {
   "cell_type": "code",
   "execution_count": 40,
   "metadata": {},
   "outputs": [],
   "source": [
    "import numpy as np\n",
    "import pandas as pd\n",
    "from sklearn.metrics import accuracy_score\n",
    "from sklearn.model_selection import train_test_split\n",
    "from sklearn.tree import DecisionTreeClassifier\n",
    "from sklearn.preprocessing import StandardScaler\n",
    "from sklearn.cluster import KMeans\n",
    "from itertools import cycle, islice\n",
    "import matplotlib.pyplot as plt\n",
    "import matplotlib as mpl\n",
    "from pandas.plotting import parallel_coordinates\n",
    "\n",
    "%matplotlib inline"
   ]
  },
  {
   "cell_type": "markdown",
   "metadata": {},
   "source": [
    "## Data acquisition and prep"
   ]
  },
  {
   "cell_type": "code",
   "execution_count": 3,
   "metadata": {},
   "outputs": [],
   "source": [
    "data = pd.read_table('/Users/ericabadger/Downloads/cardio_train.csv', sep = ';')"
   ]
  },
  {
   "cell_type": "code",
   "execution_count": 4,
   "metadata": {},
   "outputs": [
    {
     "data": {
      "text/html": [
       "<div>\n",
       "<style scoped>\n",
       "    .dataframe tbody tr th:only-of-type {\n",
       "        vertical-align: middle;\n",
       "    }\n",
       "\n",
       "    .dataframe tbody tr th {\n",
       "        vertical-align: top;\n",
       "    }\n",
       "\n",
       "    .dataframe thead th {\n",
       "        text-align: right;\n",
       "    }\n",
       "</style>\n",
       "<table border=\"1\" class=\"dataframe\">\n",
       "  <thead>\n",
       "    <tr style=\"text-align: right;\">\n",
       "      <th></th>\n",
       "      <th>id</th>\n",
       "      <th>age</th>\n",
       "      <th>gender</th>\n",
       "      <th>height</th>\n",
       "      <th>weight</th>\n",
       "      <th>ap_hi</th>\n",
       "      <th>ap_lo</th>\n",
       "      <th>cholesterol</th>\n",
       "      <th>gluc</th>\n",
       "      <th>smoke</th>\n",
       "      <th>alco</th>\n",
       "      <th>active</th>\n",
       "      <th>cardio</th>\n",
       "    </tr>\n",
       "  </thead>\n",
       "  <tbody>\n",
       "    <tr>\n",
       "      <td>0</td>\n",
       "      <td>0</td>\n",
       "      <td>18393</td>\n",
       "      <td>2</td>\n",
       "      <td>168</td>\n",
       "      <td>62.0</td>\n",
       "      <td>110</td>\n",
       "      <td>80</td>\n",
       "      <td>1</td>\n",
       "      <td>1</td>\n",
       "      <td>0</td>\n",
       "      <td>0</td>\n",
       "      <td>1</td>\n",
       "      <td>0</td>\n",
       "    </tr>\n",
       "    <tr>\n",
       "      <td>1</td>\n",
       "      <td>1</td>\n",
       "      <td>20228</td>\n",
       "      <td>1</td>\n",
       "      <td>156</td>\n",
       "      <td>85.0</td>\n",
       "      <td>140</td>\n",
       "      <td>90</td>\n",
       "      <td>3</td>\n",
       "      <td>1</td>\n",
       "      <td>0</td>\n",
       "      <td>0</td>\n",
       "      <td>1</td>\n",
       "      <td>1</td>\n",
       "    </tr>\n",
       "    <tr>\n",
       "      <td>2</td>\n",
       "      <td>2</td>\n",
       "      <td>18857</td>\n",
       "      <td>1</td>\n",
       "      <td>165</td>\n",
       "      <td>64.0</td>\n",
       "      <td>130</td>\n",
       "      <td>70</td>\n",
       "      <td>3</td>\n",
       "      <td>1</td>\n",
       "      <td>0</td>\n",
       "      <td>0</td>\n",
       "      <td>0</td>\n",
       "      <td>1</td>\n",
       "    </tr>\n",
       "    <tr>\n",
       "      <td>3</td>\n",
       "      <td>3</td>\n",
       "      <td>17623</td>\n",
       "      <td>2</td>\n",
       "      <td>169</td>\n",
       "      <td>82.0</td>\n",
       "      <td>150</td>\n",
       "      <td>100</td>\n",
       "      <td>1</td>\n",
       "      <td>1</td>\n",
       "      <td>0</td>\n",
       "      <td>0</td>\n",
       "      <td>1</td>\n",
       "      <td>1</td>\n",
       "    </tr>\n",
       "    <tr>\n",
       "      <td>4</td>\n",
       "      <td>4</td>\n",
       "      <td>17474</td>\n",
       "      <td>1</td>\n",
       "      <td>156</td>\n",
       "      <td>56.0</td>\n",
       "      <td>100</td>\n",
       "      <td>60</td>\n",
       "      <td>1</td>\n",
       "      <td>1</td>\n",
       "      <td>0</td>\n",
       "      <td>0</td>\n",
       "      <td>0</td>\n",
       "      <td>0</td>\n",
       "    </tr>\n",
       "  </tbody>\n",
       "</table>\n",
       "</div>"
      ],
      "text/plain": [
       "   id    age  gender  height  weight  ap_hi  ap_lo  cholesterol  gluc  smoke  \\\n",
       "0   0  18393       2     168    62.0    110     80            1     1      0   \n",
       "1   1  20228       1     156    85.0    140     90            3     1      0   \n",
       "2   2  18857       1     165    64.0    130     70            3     1      0   \n",
       "3   3  17623       2     169    82.0    150    100            1     1      0   \n",
       "4   4  17474       1     156    56.0    100     60            1     1      0   \n",
       "\n",
       "   alco  active  cardio  \n",
       "0     0       1       0  \n",
       "1     0       1       1  \n",
       "2     0       0       1  \n",
       "3     0       1       1  \n",
       "4     0       0       0  "
      ]
     },
     "execution_count": 4,
     "metadata": {},
     "output_type": "execute_result"
    }
   ],
   "source": [
    "data.head()"
   ]
  },
  {
   "cell_type": "markdown",
   "metadata": {},
   "source": [
    "**Columns**\n",
    "\n",
    "- id    ID number\n",
    "- age   in days\n",
    "- gender   1 - women, 2 - men\n",
    "- height   cm\n",
    "- weight   kg\n",
    "- ap_hi   Systolic blood pressure\n",
    "- ap_lo   Diastolic blood pressure\n",
    "- cholesterol   1: normal, 2: above normal, 3: well above normal\n",
    "- gluc   1: normal, 2: above normal, 3: well above normal\n",
    "- smoke   whether patient smokes or not\n",
    "- alco   Binary feature\n",
    "- active   Binary feature\n",
    "- cardio   Target variable"
   ]
  },
  {
   "cell_type": "markdown",
   "metadata": {},
   "source": [
    "### Check for nulls"
   ]
  },
  {
   "cell_type": "code",
   "execution_count": 5,
   "metadata": {},
   "outputs": [
    {
     "data": {
      "text/html": [
       "<div>\n",
       "<style scoped>\n",
       "    .dataframe tbody tr th:only-of-type {\n",
       "        vertical-align: middle;\n",
       "    }\n",
       "\n",
       "    .dataframe tbody tr th {\n",
       "        vertical-align: top;\n",
       "    }\n",
       "\n",
       "    .dataframe thead th {\n",
       "        text-align: right;\n",
       "    }\n",
       "</style>\n",
       "<table border=\"1\" class=\"dataframe\">\n",
       "  <thead>\n",
       "    <tr style=\"text-align: right;\">\n",
       "      <th></th>\n",
       "      <th>id</th>\n",
       "      <th>age</th>\n",
       "      <th>gender</th>\n",
       "      <th>height</th>\n",
       "      <th>weight</th>\n",
       "      <th>ap_hi</th>\n",
       "      <th>ap_lo</th>\n",
       "      <th>cholesterol</th>\n",
       "      <th>gluc</th>\n",
       "      <th>smoke</th>\n",
       "      <th>alco</th>\n",
       "      <th>active</th>\n",
       "      <th>cardio</th>\n",
       "    </tr>\n",
       "  </thead>\n",
       "  <tbody>\n",
       "  </tbody>\n",
       "</table>\n",
       "</div>"
      ],
      "text/plain": [
       "Empty DataFrame\n",
       "Columns: [id, age, gender, height, weight, ap_hi, ap_lo, cholesterol, gluc, smoke, alco, active, cardio]\n",
       "Index: []"
      ]
     },
     "execution_count": 5,
     "metadata": {},
     "output_type": "execute_result"
    }
   ],
   "source": [
    "# check for nulls\n",
    "data[data.isnull().any(axis=1)]"
   ]
  },
  {
   "cell_type": "markdown",
   "metadata": {},
   "source": [
    "### Convert from metric to imperial"
   ]
  },
  {
   "cell_type": "code",
   "execution_count": 58,
   "metadata": {},
   "outputs": [],
   "source": [
    "# add variable to make age in years \n",
    "data['age_yrs'] = data['age']/365\n",
    "\n",
    "# add variable to make height in inches\n",
    "data['height_in'] = data['height'] / 2.54\n",
    "\n",
    "# add variable to convert weight to pounds\n",
    "data['weight_lb'] = data['weight'] * 2.2"
   ]
  },
  {
   "cell_type": "code",
   "execution_count": 59,
   "metadata": {
    "scrolled": true
   },
   "outputs": [
    {
     "data": {
      "text/html": [
       "<div>\n",
       "<style scoped>\n",
       "    .dataframe tbody tr th:only-of-type {\n",
       "        vertical-align: middle;\n",
       "    }\n",
       "\n",
       "    .dataframe tbody tr th {\n",
       "        vertical-align: top;\n",
       "    }\n",
       "\n",
       "    .dataframe thead th {\n",
       "        text-align: right;\n",
       "    }\n",
       "</style>\n",
       "<table border=\"1\" class=\"dataframe\">\n",
       "  <thead>\n",
       "    <tr style=\"text-align: right;\">\n",
       "      <th></th>\n",
       "      <th>id</th>\n",
       "      <th>age</th>\n",
       "      <th>gender</th>\n",
       "      <th>height</th>\n",
       "      <th>weight</th>\n",
       "      <th>ap_hi</th>\n",
       "      <th>ap_lo</th>\n",
       "      <th>cholesterol</th>\n",
       "      <th>gluc</th>\n",
       "      <th>smoke</th>\n",
       "      <th>alco</th>\n",
       "      <th>active</th>\n",
       "      <th>cardio</th>\n",
       "      <th>age_yrs</th>\n",
       "      <th>height_in</th>\n",
       "      <th>weight_lb</th>\n",
       "    </tr>\n",
       "  </thead>\n",
       "  <tbody>\n",
       "    <tr>\n",
       "      <td>count</td>\n",
       "      <td>69588.000000</td>\n",
       "      <td>69588.000000</td>\n",
       "      <td>69588.000000</td>\n",
       "      <td>69588.000000</td>\n",
       "      <td>69588.000000</td>\n",
       "      <td>69588.000000</td>\n",
       "      <td>69588.000000</td>\n",
       "      <td>69588.000000</td>\n",
       "      <td>69588.000000</td>\n",
       "      <td>69588.000000</td>\n",
       "      <td>69588.000000</td>\n",
       "      <td>69588.000000</td>\n",
       "      <td>69588.000000</td>\n",
       "      <td>69588.000000</td>\n",
       "      <td>69588.000000</td>\n",
       "      <td>69588.000000</td>\n",
       "    </tr>\n",
       "    <tr>\n",
       "      <td>mean</td>\n",
       "      <td>49969.893243</td>\n",
       "      <td>19470.150026</td>\n",
       "      <td>1.349845</td>\n",
       "      <td>164.452463</td>\n",
       "      <td>74.253697</td>\n",
       "      <td>129.101727</td>\n",
       "      <td>96.680635</td>\n",
       "      <td>1.367492</td>\n",
       "      <td>1.226821</td>\n",
       "      <td>0.088334</td>\n",
       "      <td>0.053860</td>\n",
       "      <td>0.803817</td>\n",
       "      <td>0.500014</td>\n",
       "      <td>53.342877</td>\n",
       "      <td>64.745064</td>\n",
       "      <td>163.358133</td>\n",
       "    </tr>\n",
       "    <tr>\n",
       "      <td>std</td>\n",
       "      <td>28854.199371</td>\n",
       "      <td>2466.191542</td>\n",
       "      <td>0.476924</td>\n",
       "      <td>7.858600</td>\n",
       "      <td>14.314437</td>\n",
       "      <td>154.164119</td>\n",
       "      <td>188.678257</td>\n",
       "      <td>0.680783</td>\n",
       "      <td>0.572679</td>\n",
       "      <td>0.283782</td>\n",
       "      <td>0.225743</td>\n",
       "      <td>0.397112</td>\n",
       "      <td>0.500004</td>\n",
       "      <td>6.756689</td>\n",
       "      <td>3.093937</td>\n",
       "      <td>31.491761</td>\n",
       "    </tr>\n",
       "    <tr>\n",
       "      <td>min</td>\n",
       "      <td>0.000000</td>\n",
       "      <td>10798.000000</td>\n",
       "      <td>1.000000</td>\n",
       "      <td>122.000000</td>\n",
       "      <td>41.000000</td>\n",
       "      <td>60.000000</td>\n",
       "      <td>30.000000</td>\n",
       "      <td>1.000000</td>\n",
       "      <td>1.000000</td>\n",
       "      <td>0.000000</td>\n",
       "      <td>0.000000</td>\n",
       "      <td>0.000000</td>\n",
       "      <td>0.000000</td>\n",
       "      <td>29.583562</td>\n",
       "      <td>48.031496</td>\n",
       "      <td>90.200000</td>\n",
       "    </tr>\n",
       "    <tr>\n",
       "      <td>25%</td>\n",
       "      <td>24996.750000</td>\n",
       "      <td>17666.750000</td>\n",
       "      <td>1.000000</td>\n",
       "      <td>159.000000</td>\n",
       "      <td>65.000000</td>\n",
       "      <td>120.000000</td>\n",
       "      <td>80.000000</td>\n",
       "      <td>1.000000</td>\n",
       "      <td>1.000000</td>\n",
       "      <td>0.000000</td>\n",
       "      <td>0.000000</td>\n",
       "      <td>1.000000</td>\n",
       "      <td>0.000000</td>\n",
       "      <td>48.402055</td>\n",
       "      <td>62.598425</td>\n",
       "      <td>143.000000</td>\n",
       "    </tr>\n",
       "    <tr>\n",
       "      <td>50%</td>\n",
       "      <td>49997.500000</td>\n",
       "      <td>19703.000000</td>\n",
       "      <td>1.000000</td>\n",
       "      <td>165.000000</td>\n",
       "      <td>72.000000</td>\n",
       "      <td>120.000000</td>\n",
       "      <td>80.000000</td>\n",
       "      <td>1.000000</td>\n",
       "      <td>1.000000</td>\n",
       "      <td>0.000000</td>\n",
       "      <td>0.000000</td>\n",
       "      <td>1.000000</td>\n",
       "      <td>1.000000</td>\n",
       "      <td>53.980822</td>\n",
       "      <td>64.960630</td>\n",
       "      <td>158.400000</td>\n",
       "    </tr>\n",
       "    <tr>\n",
       "      <td>75%</td>\n",
       "      <td>74889.250000</td>\n",
       "      <td>21327.000000</td>\n",
       "      <td>2.000000</td>\n",
       "      <td>170.000000</td>\n",
       "      <td>82.000000</td>\n",
       "      <td>140.000000</td>\n",
       "      <td>90.000000</td>\n",
       "      <td>2.000000</td>\n",
       "      <td>1.000000</td>\n",
       "      <td>0.000000</td>\n",
       "      <td>0.000000</td>\n",
       "      <td>1.000000</td>\n",
       "      <td>1.000000</td>\n",
       "      <td>58.430137</td>\n",
       "      <td>66.929134</td>\n",
       "      <td>180.400000</td>\n",
       "    </tr>\n",
       "    <tr>\n",
       "      <td>max</td>\n",
       "      <td>99999.000000</td>\n",
       "      <td>23713.000000</td>\n",
       "      <td>2.000000</td>\n",
       "      <td>250.000000</td>\n",
       "      <td>200.000000</td>\n",
       "      <td>16020.000000</td>\n",
       "      <td>11000.000000</td>\n",
       "      <td>3.000000</td>\n",
       "      <td>3.000000</td>\n",
       "      <td>1.000000</td>\n",
       "      <td>1.000000</td>\n",
       "      <td>1.000000</td>\n",
       "      <td>1.000000</td>\n",
       "      <td>64.967123</td>\n",
       "      <td>98.425197</td>\n",
       "      <td>440.000000</td>\n",
       "    </tr>\n",
       "  </tbody>\n",
       "</table>\n",
       "</div>"
      ],
      "text/plain": [
       "                 id           age        gender        height        weight  \\\n",
       "count  69588.000000  69588.000000  69588.000000  69588.000000  69588.000000   \n",
       "mean   49969.893243  19470.150026      1.349845    164.452463     74.253697   \n",
       "std    28854.199371   2466.191542      0.476924      7.858600     14.314437   \n",
       "min        0.000000  10798.000000      1.000000    122.000000     41.000000   \n",
       "25%    24996.750000  17666.750000      1.000000    159.000000     65.000000   \n",
       "50%    49997.500000  19703.000000      1.000000    165.000000     72.000000   \n",
       "75%    74889.250000  21327.000000      2.000000    170.000000     82.000000   \n",
       "max    99999.000000  23713.000000      2.000000    250.000000    200.000000   \n",
       "\n",
       "              ap_hi         ap_lo   cholesterol          gluc         smoke  \\\n",
       "count  69588.000000  69588.000000  69588.000000  69588.000000  69588.000000   \n",
       "mean     129.101727     96.680635      1.367492      1.226821      0.088334   \n",
       "std      154.164119    188.678257      0.680783      0.572679      0.283782   \n",
       "min       60.000000     30.000000      1.000000      1.000000      0.000000   \n",
       "25%      120.000000     80.000000      1.000000      1.000000      0.000000   \n",
       "50%      120.000000     80.000000      1.000000      1.000000      0.000000   \n",
       "75%      140.000000     90.000000      2.000000      1.000000      0.000000   \n",
       "max    16020.000000  11000.000000      3.000000      3.000000      1.000000   \n",
       "\n",
       "               alco        active        cardio       age_yrs     height_in  \\\n",
       "count  69588.000000  69588.000000  69588.000000  69588.000000  69588.000000   \n",
       "mean       0.053860      0.803817      0.500014     53.342877     64.745064   \n",
       "std        0.225743      0.397112      0.500004      6.756689      3.093937   \n",
       "min        0.000000      0.000000      0.000000     29.583562     48.031496   \n",
       "25%        0.000000      1.000000      0.000000     48.402055     62.598425   \n",
       "50%        0.000000      1.000000      1.000000     53.980822     64.960630   \n",
       "75%        0.000000      1.000000      1.000000     58.430137     66.929134   \n",
       "max        1.000000      1.000000      1.000000     64.967123     98.425197   \n",
       "\n",
       "          weight_lb  \n",
       "count  69588.000000  \n",
       "mean     163.358133  \n",
       "std       31.491761  \n",
       "min       90.200000  \n",
       "25%      143.000000  \n",
       "50%      158.400000  \n",
       "75%      180.400000  \n",
       "max      440.000000  "
      ]
     },
     "execution_count": 59,
     "metadata": {},
     "output_type": "execute_result"
    }
   ],
   "source": [
    "# summary stats\n",
    "data.describe()"
   ]
  },
  {
   "cell_type": "markdown",
   "metadata": {},
   "source": [
    "### Filtering"
   ]
  },
  {
   "cell_type": "code",
   "execution_count": 60,
   "metadata": {},
   "outputs": [
    {
     "name": "stdout",
     "output_type": "stream",
     "text": [
      "69588\n",
      "69588\n",
      "0\n"
     ]
    }
   ],
   "source": [
    "# filter data for illogical values\n",
    "height_filter = data['height_in'] >= 48\n",
    "\n",
    "weight_filter = data['weight_lb'] >= 90\n",
    "\n",
    "ap_hi_filter = data['ap_hi'] >= 50\n",
    "\n",
    "ap_lo_filter = data['ap_lo'] >= 30\n",
    "\n",
    "before_filter = data.shape[0]\n",
    "\n",
    "data = data[height_filter & weight_filter & ap_hi_filter & ap_lo_filter]\n",
    "\n",
    "after_filter = data.shape[0]\n",
    "\n",
    "print(before_filter)\n",
    "print(after_filter)\n",
    "print(before_filter - after_filter)\n"
   ]
  },
  {
   "cell_type": "code",
   "execution_count": 61,
   "metadata": {},
   "outputs": [
    {
     "data": {
      "text/html": [
       "<div>\n",
       "<style scoped>\n",
       "    .dataframe tbody tr th:only-of-type {\n",
       "        vertical-align: middle;\n",
       "    }\n",
       "\n",
       "    .dataframe tbody tr th {\n",
       "        vertical-align: top;\n",
       "    }\n",
       "\n",
       "    .dataframe thead th {\n",
       "        text-align: right;\n",
       "    }\n",
       "</style>\n",
       "<table border=\"1\" class=\"dataframe\">\n",
       "  <thead>\n",
       "    <tr style=\"text-align: right;\">\n",
       "      <th></th>\n",
       "      <th>id</th>\n",
       "      <th>age</th>\n",
       "      <th>gender</th>\n",
       "      <th>height</th>\n",
       "      <th>weight</th>\n",
       "      <th>ap_hi</th>\n",
       "      <th>ap_lo</th>\n",
       "      <th>cholesterol</th>\n",
       "      <th>gluc</th>\n",
       "      <th>smoke</th>\n",
       "      <th>alco</th>\n",
       "      <th>active</th>\n",
       "      <th>cardio</th>\n",
       "      <th>age_yrs</th>\n",
       "      <th>height_in</th>\n",
       "      <th>weight_lb</th>\n",
       "    </tr>\n",
       "  </thead>\n",
       "  <tbody>\n",
       "    <tr>\n",
       "      <td>count</td>\n",
       "      <td>69588.000000</td>\n",
       "      <td>69588.000000</td>\n",
       "      <td>69588.000000</td>\n",
       "      <td>69588.000000</td>\n",
       "      <td>69588.000000</td>\n",
       "      <td>69588.000000</td>\n",
       "      <td>69588.000000</td>\n",
       "      <td>69588.000000</td>\n",
       "      <td>69588.000000</td>\n",
       "      <td>69588.000000</td>\n",
       "      <td>69588.000000</td>\n",
       "      <td>69588.000000</td>\n",
       "      <td>69588.000000</td>\n",
       "      <td>69588.000000</td>\n",
       "      <td>69588.000000</td>\n",
       "      <td>69588.000000</td>\n",
       "    </tr>\n",
       "    <tr>\n",
       "      <td>mean</td>\n",
       "      <td>49969.893243</td>\n",
       "      <td>19470.150026</td>\n",
       "      <td>1.349845</td>\n",
       "      <td>164.452463</td>\n",
       "      <td>74.253697</td>\n",
       "      <td>129.101727</td>\n",
       "      <td>96.680635</td>\n",
       "      <td>1.367492</td>\n",
       "      <td>1.226821</td>\n",
       "      <td>0.088334</td>\n",
       "      <td>0.053860</td>\n",
       "      <td>0.803817</td>\n",
       "      <td>0.500014</td>\n",
       "      <td>53.342877</td>\n",
       "      <td>64.745064</td>\n",
       "      <td>163.358133</td>\n",
       "    </tr>\n",
       "    <tr>\n",
       "      <td>std</td>\n",
       "      <td>28854.199371</td>\n",
       "      <td>2466.191542</td>\n",
       "      <td>0.476924</td>\n",
       "      <td>7.858600</td>\n",
       "      <td>14.314437</td>\n",
       "      <td>154.164119</td>\n",
       "      <td>188.678257</td>\n",
       "      <td>0.680783</td>\n",
       "      <td>0.572679</td>\n",
       "      <td>0.283782</td>\n",
       "      <td>0.225743</td>\n",
       "      <td>0.397112</td>\n",
       "      <td>0.500004</td>\n",
       "      <td>6.756689</td>\n",
       "      <td>3.093937</td>\n",
       "      <td>31.491761</td>\n",
       "    </tr>\n",
       "    <tr>\n",
       "      <td>min</td>\n",
       "      <td>0.000000</td>\n",
       "      <td>10798.000000</td>\n",
       "      <td>1.000000</td>\n",
       "      <td>122.000000</td>\n",
       "      <td>41.000000</td>\n",
       "      <td>60.000000</td>\n",
       "      <td>30.000000</td>\n",
       "      <td>1.000000</td>\n",
       "      <td>1.000000</td>\n",
       "      <td>0.000000</td>\n",
       "      <td>0.000000</td>\n",
       "      <td>0.000000</td>\n",
       "      <td>0.000000</td>\n",
       "      <td>29.583562</td>\n",
       "      <td>48.031496</td>\n",
       "      <td>90.200000</td>\n",
       "    </tr>\n",
       "    <tr>\n",
       "      <td>25%</td>\n",
       "      <td>24996.750000</td>\n",
       "      <td>17666.750000</td>\n",
       "      <td>1.000000</td>\n",
       "      <td>159.000000</td>\n",
       "      <td>65.000000</td>\n",
       "      <td>120.000000</td>\n",
       "      <td>80.000000</td>\n",
       "      <td>1.000000</td>\n",
       "      <td>1.000000</td>\n",
       "      <td>0.000000</td>\n",
       "      <td>0.000000</td>\n",
       "      <td>1.000000</td>\n",
       "      <td>0.000000</td>\n",
       "      <td>48.402055</td>\n",
       "      <td>62.598425</td>\n",
       "      <td>143.000000</td>\n",
       "    </tr>\n",
       "    <tr>\n",
       "      <td>50%</td>\n",
       "      <td>49997.500000</td>\n",
       "      <td>19703.000000</td>\n",
       "      <td>1.000000</td>\n",
       "      <td>165.000000</td>\n",
       "      <td>72.000000</td>\n",
       "      <td>120.000000</td>\n",
       "      <td>80.000000</td>\n",
       "      <td>1.000000</td>\n",
       "      <td>1.000000</td>\n",
       "      <td>0.000000</td>\n",
       "      <td>0.000000</td>\n",
       "      <td>1.000000</td>\n",
       "      <td>1.000000</td>\n",
       "      <td>53.980822</td>\n",
       "      <td>64.960630</td>\n",
       "      <td>158.400000</td>\n",
       "    </tr>\n",
       "    <tr>\n",
       "      <td>75%</td>\n",
       "      <td>74889.250000</td>\n",
       "      <td>21327.000000</td>\n",
       "      <td>2.000000</td>\n",
       "      <td>170.000000</td>\n",
       "      <td>82.000000</td>\n",
       "      <td>140.000000</td>\n",
       "      <td>90.000000</td>\n",
       "      <td>2.000000</td>\n",
       "      <td>1.000000</td>\n",
       "      <td>0.000000</td>\n",
       "      <td>0.000000</td>\n",
       "      <td>1.000000</td>\n",
       "      <td>1.000000</td>\n",
       "      <td>58.430137</td>\n",
       "      <td>66.929134</td>\n",
       "      <td>180.400000</td>\n",
       "    </tr>\n",
       "    <tr>\n",
       "      <td>max</td>\n",
       "      <td>99999.000000</td>\n",
       "      <td>23713.000000</td>\n",
       "      <td>2.000000</td>\n",
       "      <td>250.000000</td>\n",
       "      <td>200.000000</td>\n",
       "      <td>16020.000000</td>\n",
       "      <td>11000.000000</td>\n",
       "      <td>3.000000</td>\n",
       "      <td>3.000000</td>\n",
       "      <td>1.000000</td>\n",
       "      <td>1.000000</td>\n",
       "      <td>1.000000</td>\n",
       "      <td>1.000000</td>\n",
       "      <td>64.967123</td>\n",
       "      <td>98.425197</td>\n",
       "      <td>440.000000</td>\n",
       "    </tr>\n",
       "  </tbody>\n",
       "</table>\n",
       "</div>"
      ],
      "text/plain": [
       "                 id           age        gender        height        weight  \\\n",
       "count  69588.000000  69588.000000  69588.000000  69588.000000  69588.000000   \n",
       "mean   49969.893243  19470.150026      1.349845    164.452463     74.253697   \n",
       "std    28854.199371   2466.191542      0.476924      7.858600     14.314437   \n",
       "min        0.000000  10798.000000      1.000000    122.000000     41.000000   \n",
       "25%    24996.750000  17666.750000      1.000000    159.000000     65.000000   \n",
       "50%    49997.500000  19703.000000      1.000000    165.000000     72.000000   \n",
       "75%    74889.250000  21327.000000      2.000000    170.000000     82.000000   \n",
       "max    99999.000000  23713.000000      2.000000    250.000000    200.000000   \n",
       "\n",
       "              ap_hi         ap_lo   cholesterol          gluc         smoke  \\\n",
       "count  69588.000000  69588.000000  69588.000000  69588.000000  69588.000000   \n",
       "mean     129.101727     96.680635      1.367492      1.226821      0.088334   \n",
       "std      154.164119    188.678257      0.680783      0.572679      0.283782   \n",
       "min       60.000000     30.000000      1.000000      1.000000      0.000000   \n",
       "25%      120.000000     80.000000      1.000000      1.000000      0.000000   \n",
       "50%      120.000000     80.000000      1.000000      1.000000      0.000000   \n",
       "75%      140.000000     90.000000      2.000000      1.000000      0.000000   \n",
       "max    16020.000000  11000.000000      3.000000      3.000000      1.000000   \n",
       "\n",
       "               alco        active        cardio       age_yrs     height_in  \\\n",
       "count  69588.000000  69588.000000  69588.000000  69588.000000  69588.000000   \n",
       "mean       0.053860      0.803817      0.500014     53.342877     64.745064   \n",
       "std        0.225743      0.397112      0.500004      6.756689      3.093937   \n",
       "min        0.000000      0.000000      0.000000     29.583562     48.031496   \n",
       "25%        0.000000      1.000000      0.000000     48.402055     62.598425   \n",
       "50%        0.000000      1.000000      1.000000     53.980822     64.960630   \n",
       "75%        0.000000      1.000000      1.000000     58.430137     66.929134   \n",
       "max        1.000000      1.000000      1.000000     64.967123     98.425197   \n",
       "\n",
       "          weight_lb  \n",
       "count  69588.000000  \n",
       "mean     163.358133  \n",
       "std       31.491761  \n",
       "min       90.200000  \n",
       "25%      143.000000  \n",
       "50%      158.400000  \n",
       "75%      180.400000  \n",
       "max      440.000000  "
      ]
     },
     "execution_count": 61,
     "metadata": {},
     "output_type": "execute_result"
    }
   ],
   "source": [
    "data.describe()"
   ]
  },
  {
   "cell_type": "markdown",
   "metadata": {},
   "source": [
    "### Look for and address highly correlated features"
   ]
  },
  {
   "cell_type": "code",
   "execution_count": 62,
   "metadata": {},
   "outputs": [],
   "source": [
    "# Look at correlations between continuous variables\n",
    "data_cont = data[['age','height','weight','ap_hi','ap_lo']].copy()"
   ]
  },
  {
   "cell_type": "code",
   "execution_count": 63,
   "metadata": {},
   "outputs": [
    {
     "data": {
      "image/png": "[encoded data removed]",
      "text/plain": [
       "<Figure size 1800x360 with 2 Axes>"
      ]
     },
     "metadata": {
      "needs_background": "light"
     },
     "output_type": "display_data"
    }
   ],
   "source": [
    "data_cont.corr()\n",
    "\n",
    "plt.matshow(data_cont.corr())\n",
    "plt.xticks(range(len(data_cont.columns)), data_cont.columns)\n",
    "plt.yticks(range(len(data_cont.columns)), data_cont.columns)\n",
    "plt.colorbar()\n",
    "plt.gcf().set_size_inches(25, 5)\n",
    "\n",
    "plt.show()"
   ]
  },
  {
   "cell_type": "code",
   "execution_count": 64,
   "metadata": {},
   "outputs": [
    {
     "data": {
      "text/html": [
       "<div>\n",
       "<style scoped>\n",
       "    .dataframe tbody tr th:only-of-type {\n",
       "        vertical-align: middle;\n",
       "    }\n",
       "\n",
       "    .dataframe tbody tr th {\n",
       "        vertical-align: top;\n",
       "    }\n",
       "\n",
       "    .dataframe thead th {\n",
       "        text-align: right;\n",
       "    }\n",
       "</style>\n",
       "<table border=\"1\" class=\"dataframe\">\n",
       "  <thead>\n",
       "    <tr style=\"text-align: right;\">\n",
       "      <th></th>\n",
       "      <th>id</th>\n",
       "      <th>age</th>\n",
       "      <th>gender</th>\n",
       "      <th>height</th>\n",
       "      <th>weight</th>\n",
       "      <th>ap_hi</th>\n",
       "      <th>ap_lo</th>\n",
       "      <th>cholesterol</th>\n",
       "      <th>gluc</th>\n",
       "      <th>smoke</th>\n",
       "      <th>alco</th>\n",
       "      <th>active</th>\n",
       "      <th>cardio</th>\n",
       "      <th>age_yrs</th>\n",
       "      <th>height_in</th>\n",
       "      <th>weight_lb</th>\n",
       "      <th>bmi</th>\n",
       "      <th>map</th>\n",
       "    </tr>\n",
       "  </thead>\n",
       "  <tbody>\n",
       "    <tr>\n",
       "      <td>0</td>\n",
       "      <td>0</td>\n",
       "      <td>18393</td>\n",
       "      <td>2</td>\n",
       "      <td>168</td>\n",
       "      <td>62.0</td>\n",
       "      <td>110</td>\n",
       "      <td>80</td>\n",
       "      <td>1</td>\n",
       "      <td>1</td>\n",
       "      <td>0</td>\n",
       "      <td>0</td>\n",
       "      <td>1</td>\n",
       "      <td>0</td>\n",
       "      <td>50.391781</td>\n",
       "      <td>66.141732</td>\n",
       "      <td>136.4</td>\n",
       "      <td>21.918890</td>\n",
       "      <td>90.000000</td>\n",
       "    </tr>\n",
       "    <tr>\n",
       "      <td>1</td>\n",
       "      <td>1</td>\n",
       "      <td>20228</td>\n",
       "      <td>1</td>\n",
       "      <td>156</td>\n",
       "      <td>85.0</td>\n",
       "      <td>140</td>\n",
       "      <td>90</td>\n",
       "      <td>3</td>\n",
       "      <td>1</td>\n",
       "      <td>0</td>\n",
       "      <td>0</td>\n",
       "      <td>1</td>\n",
       "      <td>1</td>\n",
       "      <td>55.419178</td>\n",
       "      <td>61.417323</td>\n",
       "      <td>187.0</td>\n",
       "      <td>34.850994</td>\n",
       "      <td>106.666667</td>\n",
       "    </tr>\n",
       "    <tr>\n",
       "      <td>2</td>\n",
       "      <td>2</td>\n",
       "      <td>18857</td>\n",
       "      <td>1</td>\n",
       "      <td>165</td>\n",
       "      <td>64.0</td>\n",
       "      <td>130</td>\n",
       "      <td>70</td>\n",
       "      <td>3</td>\n",
       "      <td>1</td>\n",
       "      <td>0</td>\n",
       "      <td>0</td>\n",
       "      <td>0</td>\n",
       "      <td>1</td>\n",
       "      <td>51.663014</td>\n",
       "      <td>64.960630</td>\n",
       "      <td>140.8</td>\n",
       "      <td>23.456193</td>\n",
       "      <td>90.000000</td>\n",
       "    </tr>\n",
       "    <tr>\n",
       "      <td>3</td>\n",
       "      <td>3</td>\n",
       "      <td>17623</td>\n",
       "      <td>2</td>\n",
       "      <td>169</td>\n",
       "      <td>82.0</td>\n",
       "      <td>150</td>\n",
       "      <td>100</td>\n",
       "      <td>1</td>\n",
       "      <td>1</td>\n",
       "      <td>0</td>\n",
       "      <td>0</td>\n",
       "      <td>1</td>\n",
       "      <td>1</td>\n",
       "      <td>48.282192</td>\n",
       "      <td>66.535433</td>\n",
       "      <td>180.4</td>\n",
       "      <td>28.647444</td>\n",
       "      <td>116.666667</td>\n",
       "    </tr>\n",
       "    <tr>\n",
       "      <td>4</td>\n",
       "      <td>4</td>\n",
       "      <td>17474</td>\n",
       "      <td>1</td>\n",
       "      <td>156</td>\n",
       "      <td>56.0</td>\n",
       "      <td>100</td>\n",
       "      <td>60</td>\n",
       "      <td>1</td>\n",
       "      <td>1</td>\n",
       "      <td>0</td>\n",
       "      <td>0</td>\n",
       "      <td>0</td>\n",
       "      <td>0</td>\n",
       "      <td>47.873973</td>\n",
       "      <td>61.417323</td>\n",
       "      <td>123.2</td>\n",
       "      <td>22.960655</td>\n",
       "      <td>73.333333</td>\n",
       "    </tr>\n",
       "  </tbody>\n",
       "</table>\n",
       "</div>"
      ],
      "text/plain": [
       "   id    age  gender  height  weight  ap_hi  ap_lo  cholesterol  gluc  smoke  \\\n",
       "0   0  18393       2     168    62.0    110     80            1     1      0   \n",
       "1   1  20228       1     156    85.0    140     90            3     1      0   \n",
       "2   2  18857       1     165    64.0    130     70            3     1      0   \n",
       "3   3  17623       2     169    82.0    150    100            1     1      0   \n",
       "4   4  17474       1     156    56.0    100     60            1     1      0   \n",
       "\n",
       "   alco  active  cardio    age_yrs  height_in  weight_lb        bmi  \\\n",
       "0     0       1       0  50.391781  66.141732      136.4  21.918890   \n",
       "1     0       1       1  55.419178  61.417323      187.0  34.850994   \n",
       "2     0       0       1  51.663014  64.960630      140.8  23.456193   \n",
       "3     0       1       1  48.282192  66.535433      180.4  28.647444   \n",
       "4     0       0       0  47.873973  61.417323      123.2  22.960655   \n",
       "\n",
       "          map  \n",
       "0   90.000000  \n",
       "1  106.666667  \n",
       "2   90.000000  \n",
       "3  116.666667  \n",
       "4   73.333333  "
      ]
     },
     "execution_count": 64,
     "metadata": {},
     "output_type": "execute_result"
    }
   ],
   "source": [
    "# add clinical variables for highly correlated measures\n",
    "\n",
    "# BMI : Weight (LBS) x 703 ÷ Height (Inches²)\n",
    "data['bmi'] = (data['weight_lb'] * 703) / (data['height_in']**2)\n",
    "\n",
    "# Mean Arterial Pressure (MAP): ((2 * DP) + SP) / 3\n",
    "data['map'] = ((2 * data['ap_lo']) + data['ap_hi']) / 3\n",
    "\n",
    "data.head()"
   ]
  },
  {
   "cell_type": "markdown",
   "metadata": {},
   "source": [
    "### Final data set"
   ]
  },
  {
   "cell_type": "code",
   "execution_count": 146,
   "metadata": {},
   "outputs": [],
   "source": [
    "data2 = data[['age','gender','cholesterol','gluc','smoke','alco','active','cardio','bmi','map']].copy()\n",
    "#data2.head()"
   ]
  },
  {
   "cell_type": "markdown",
   "metadata": {},
   "source": [
    "## Classification"
   ]
  },
  {
   "cell_type": "code",
   "execution_count": 147,
   "metadata": {},
   "outputs": [],
   "source": [
    "# make the heart disease label\n",
    "y = data2[['cardio']].copy()"
   ]
  },
  {
   "cell_type": "code",
   "execution_count": 67,
   "metadata": {},
   "outputs": [],
   "source": [
    "# specify the features to use\n",
    "cardio_features = ['age','gender','cholesterol','gluc','smoke',\n",
    "        'alco','active','bmi','map']"
   ]
  },
  {
   "cell_type": "code",
   "execution_count": 68,
   "metadata": {},
   "outputs": [],
   "source": [
    "x = data[cardio_features].copy()"
   ]
  },
  {
   "cell_type": "code",
   "execution_count": 69,
   "metadata": {},
   "outputs": [
    {
     "data": {
      "text/plain": [
       "Index(['cardio'], dtype='object')"
      ]
     },
     "execution_count": 69,
     "metadata": {},
     "output_type": "execute_result"
    }
   ],
   "source": [
    "# Check the column names\n",
    "y.columns"
   ]
  },
  {
   "cell_type": "code",
   "execution_count": 70,
   "metadata": {},
   "outputs": [
    {
     "data": {
      "text/plain": [
       "Index(['age', 'gender', 'cholesterol', 'gluc', 'smoke', 'alco', 'active',\n",
       "       'bmi', 'map'],\n",
       "      dtype='object')"
      ]
     },
     "execution_count": 70,
     "metadata": {},
     "output_type": "execute_result"
    }
   ],
   "source": [
    "x.columns"
   ]
  },
  {
   "cell_type": "code",
   "execution_count": 80,
   "metadata": {},
   "outputs": [],
   "source": [
    "# create the test and train datasets\n",
    "x_train, x_test, y_train, y_test = train_test_split(x, y, test_size=0.33, random_state=777)"
   ]
  },
  {
   "cell_type": "code",
   "execution_count": 81,
   "metadata": {},
   "outputs": [
    {
     "data": {
      "text/plain": [
       "DecisionTreeClassifier(class_weight=None, criterion='gini', max_depth=None,\n",
       "                       max_features=None, max_leaf_nodes=10,\n",
       "                       min_impurity_decrease=0.0, min_impurity_split=None,\n",
       "                       min_samples_leaf=1, min_samples_split=2,\n",
       "                       min_weight_fraction_leaf=0.0, presort=False,\n",
       "                       random_state=0, splitter='best')"
      ]
     },
     "execution_count": 81,
     "metadata": {},
     "output_type": "execute_result"
    }
   ],
   "source": [
    "# fit the model on the train set\n",
    "cardio_classifier = DecisionTreeClassifier(max_leaf_nodes=10, random_state=0)\n",
    "cardio_classifier.fit(x_train, y_train)\n"
   ]
  },
  {
   "cell_type": "code",
   "execution_count": 82,
   "metadata": {},
   "outputs": [],
   "source": [
    "# predict on the test set\n",
    "predictions = cardio_classifier.predict(x_test)"
   ]
  },
  {
   "cell_type": "code",
   "execution_count": 83,
   "metadata": {},
   "outputs": [
    {
     "data": {
      "text/plain": [
       "array([1, 1, 0, 1, 0, 0, 0, 0, 0, 1, 0, 0, 1, 0, 0, 1, 0, 1, 0, 0, 1, 0,\n",
       "       0, 0, 1, 1, 0, 1, 0, 0, 1, 1, 1, 1, 0, 0, 1, 0, 0, 1, 1, 1, 1, 0,\n",
       "       1, 1, 1, 0, 1, 1, 1, 1, 0, 0, 0, 0, 1, 0, 1, 1, 0, 1, 1, 0, 1, 1,\n",
       "       1, 1, 0, 0, 1, 1, 1, 0, 1, 1, 1, 1, 0, 0, 0, 1, 0, 1, 0, 0, 1, 0,\n",
       "       0, 0, 1, 1, 1, 0, 1, 1, 0, 1, 1, 0])"
      ]
     },
     "execution_count": 83,
     "metadata": {},
     "output_type": "execute_result"
    }
   ],
   "source": [
    "# check predicted vs. actual for 100 values\n",
    "predictions[:100]"
   ]
  },
  {
   "cell_type": "code",
   "execution_count": 84,
   "metadata": {},
   "outputs": [
    {
     "data": {
      "text/plain": [
       "2046     0\n",
       "15141    1\n",
       "14535    0\n",
       "55832    1\n",
       "61032    1\n",
       "        ..\n",
       "16625    1\n",
       "30421    0\n",
       "6411     1\n",
       "27639    1\n",
       "38023    0\n",
       "Name: cardio, Length: 100, dtype: int64"
      ]
     },
     "execution_count": 84,
     "metadata": {},
     "output_type": "execute_result"
    }
   ],
   "source": [
    "y_test['cardio'][:100]"
   ]
  },
  {
   "cell_type": "code",
   "execution_count": 85,
   "metadata": {},
   "outputs": [
    {
     "data": {
      "text/plain": [
       "0.7250163291966035"
      ]
     },
     "execution_count": 85,
     "metadata": {},
     "output_type": "execute_result"
    }
   ],
   "source": [
    "# Check the accuracy of the model\n",
    "accuracy_score(y_true = y_test, y_pred = predictions)"
   ]
  },
  {
   "cell_type": "markdown",
   "metadata": {},
   "source": [
    "## Clustering"
   ]
  },
  {
   "cell_type": "markdown",
   "metadata": {},
   "source": [
    "For the people with heart disease, try to cluster them into groups to see how they are related.  This could help with designing programs to target each cluster's specific needs when it comes to health promotion."
   ]
  },
  {
   "cell_type": "code",
   "execution_count": 89,
   "metadata": {},
   "outputs": [
    {
     "name": "stdout",
     "output_type": "stream",
     "text": [
      "69588\n",
      "34795\n",
      "34793\n"
     ]
    }
   ],
   "source": [
    "# First, limit data to only people with heart disease.\n",
    "patients = data2.copy()\n",
    "\n",
    "before_filter = patients.shape[0]\n",
    "\n",
    "heart_disease = patients['cardio'] == 1\n",
    "\n",
    "patients = patients[heart_disease]\n",
    "\n",
    "after_filter = patients.shape[0]\n",
    "\n",
    "print(before_filter)\n",
    "print(after_filter)\n",
    "print(before_filter - after_filter)"
   ]
  },
  {
   "cell_type": "markdown",
   "metadata": {},
   "source": [
    "For features, use cardio_features already established above.  Create a new dataframe containing only these features.\n"
   ]
  },
  {
   "cell_type": "code",
   "execution_count": 90,
   "metadata": {},
   "outputs": [
    {
     "data": {
      "text/html": [
       "<div>\n",
       "<style scoped>\n",
       "    .dataframe tbody tr th:only-of-type {\n",
       "        vertical-align: middle;\n",
       "    }\n",
       "\n",
       "    .dataframe tbody tr th {\n",
       "        vertical-align: top;\n",
       "    }\n",
       "\n",
       "    .dataframe thead th {\n",
       "        text-align: right;\n",
       "    }\n",
       "</style>\n",
       "<table border=\"1\" class=\"dataframe\">\n",
       "  <thead>\n",
       "    <tr style=\"text-align: right;\">\n",
       "      <th></th>\n",
       "      <th>age</th>\n",
       "      <th>gender</th>\n",
       "      <th>cholesterol</th>\n",
       "      <th>gluc</th>\n",
       "      <th>smoke</th>\n",
       "      <th>alco</th>\n",
       "      <th>active</th>\n",
       "      <th>bmi</th>\n",
       "      <th>map</th>\n",
       "    </tr>\n",
       "  </thead>\n",
       "  <tbody>\n",
       "    <tr>\n",
       "      <td>1</td>\n",
       "      <td>20228</td>\n",
       "      <td>1</td>\n",
       "      <td>3</td>\n",
       "      <td>1</td>\n",
       "      <td>0</td>\n",
       "      <td>0</td>\n",
       "      <td>1</td>\n",
       "      <td>34.850994</td>\n",
       "      <td>106.666667</td>\n",
       "    </tr>\n",
       "    <tr>\n",
       "      <td>2</td>\n",
       "      <td>18857</td>\n",
       "      <td>1</td>\n",
       "      <td>3</td>\n",
       "      <td>1</td>\n",
       "      <td>0</td>\n",
       "      <td>0</td>\n",
       "      <td>0</td>\n",
       "      <td>23.456193</td>\n",
       "      <td>90.000000</td>\n",
       "    </tr>\n",
       "    <tr>\n",
       "      <td>3</td>\n",
       "      <td>17623</td>\n",
       "      <td>2</td>\n",
       "      <td>1</td>\n",
       "      <td>1</td>\n",
       "      <td>0</td>\n",
       "      <td>0</td>\n",
       "      <td>1</td>\n",
       "      <td>28.647444</td>\n",
       "      <td>116.666667</td>\n",
       "    </tr>\n",
       "    <tr>\n",
       "      <td>7</td>\n",
       "      <td>22584</td>\n",
       "      <td>2</td>\n",
       "      <td>3</td>\n",
       "      <td>3</td>\n",
       "      <td>0</td>\n",
       "      <td>0</td>\n",
       "      <td>1</td>\n",
       "      <td>29.917758</td>\n",
       "      <td>103.333333</td>\n",
       "    </tr>\n",
       "    <tr>\n",
       "      <td>15</td>\n",
       "      <td>16782</td>\n",
       "      <td>2</td>\n",
       "      <td>1</td>\n",
       "      <td>1</td>\n",
       "      <td>0</td>\n",
       "      <td>0</td>\n",
       "      <td>0</td>\n",
       "      <td>37.775182</td>\n",
       "      <td>93.333333</td>\n",
       "    </tr>\n",
       "  </tbody>\n",
       "</table>\n",
       "</div>"
      ],
      "text/plain": [
       "      age  gender  cholesterol  gluc  smoke  alco  active        bmi  \\\n",
       "1   20228       1            3     1      0     0       1  34.850994   \n",
       "2   18857       1            3     1      0     0       0  23.456193   \n",
       "3   17623       2            1     1      0     0       1  28.647444   \n",
       "7   22584       2            3     3      0     0       1  29.917758   \n",
       "15  16782       2            1     1      0     0       0  37.775182   \n",
       "\n",
       "           map  \n",
       "1   106.666667  \n",
       "2    90.000000  \n",
       "3   116.666667  \n",
       "7   103.333333  \n",
       "15   93.333333  "
      ]
     },
     "execution_count": 90,
     "metadata": {},
     "output_type": "execute_result"
    }
   ],
   "source": [
    "select_df = patients[cardio_features]\n",
    "select_df.head()"
   ]
  },
  {
   "cell_type": "code",
   "execution_count": 91,
   "metadata": {},
   "outputs": [
    {
     "data": {
      "text/plain": [
       "array([[ 0.07390164, -0.73931179,  1.90789673, ...,  0.51607348,\n",
       "         1.16919562, -0.07450624],\n",
       "       [-0.51810583, -0.73931179,  1.90789673, ..., -1.93770854,\n",
       "        -0.90910928, -0.17895935],\n",
       "       [-1.05095573,  1.3526093 , -0.66692211, ...,  0.51607348,\n",
       "         0.0377263 , -0.01183438],\n",
       "       ...,\n",
       "       [ 1.09857977, -0.73931179,  0.62048731, ...,  0.51607348,\n",
       "         3.99823325, -0.07450624],\n",
       "       [-0.42785815,  1.3526093 ,  1.90789673, ..., -1.93770854,\n",
       "         0.51874445,  0.00905625],\n",
       "       [ 1.02517257, -0.73931179, -0.66692211, ..., -1.93770854,\n",
       "        -0.25550143, -0.1267328 ]])"
      ]
     },
     "execution_count": 91,
     "metadata": {},
     "output_type": "execute_result"
    }
   ],
   "source": [
    "# scale the features so they are on normalized scales\n",
    "X = StandardScaler().fit_transform(select_df)\n",
    "X"
   ]
  },
  {
   "cell_type": "code",
   "execution_count": 92,
   "metadata": {},
   "outputs": [
    {
     "name": "stdout",
     "output_type": "stream",
     "text": [
      "model\n",
      " KMeans(algorithm='auto', copy_x=True, init='k-means++', max_iter=300,\n",
      "       n_clusters=5, n_init=10, n_jobs=None, precompute_distances='auto',\n",
      "       random_state=None, tol=0.0001, verbose=0)\n"
     ]
    }
   ],
   "source": [
    "# Set up the K means clustering\n",
    "kmeans = KMeans(n_clusters= 5) # create a k means object with 5 clusters\n",
    "model = kmeans.fit(X) # scaled dataframe we are fitting\n",
    "print(\"model\\n\", model) # will be a k means object"
   ]
  },
  {
   "cell_type": "code",
   "execution_count": 93,
   "metadata": {},
   "outputs": [],
   "source": [
    "# Centers of the clusters\n",
    "centers = model.cluster_centers_\n"
   ]
  },
  {
   "cell_type": "code",
   "execution_count": 94,
   "metadata": {},
   "outputs": [],
   "source": [
    "# Plot different pairs of dimensions\n",
    "labels = kmeans.labels_"
   ]
  },
  {
   "cell_type": "code",
   "execution_count": 102,
   "metadata": {},
   "outputs": [],
   "source": [
    "select_df2 = select_df.copy()\n",
    "# select_df2.head()"
   ]
  },
  {
   "cell_type": "code",
   "execution_count": 103,
   "metadata": {},
   "outputs": [
    {
     "data": {
      "text/html": [
       "<div>\n",
       "<style scoped>\n",
       "    .dataframe tbody tr th:only-of-type {\n",
       "        vertical-align: middle;\n",
       "    }\n",
       "\n",
       "    .dataframe tbody tr th {\n",
       "        vertical-align: top;\n",
       "    }\n",
       "\n",
       "    .dataframe thead th {\n",
       "        text-align: right;\n",
       "    }\n",
       "</style>\n",
       "<table border=\"1\" class=\"dataframe\">\n",
       "  <thead>\n",
       "    <tr style=\"text-align: right;\">\n",
       "      <th></th>\n",
       "      <th>age</th>\n",
       "      <th>gender</th>\n",
       "      <th>cholesterol</th>\n",
       "      <th>gluc</th>\n",
       "      <th>smoke</th>\n",
       "      <th>alco</th>\n",
       "      <th>active</th>\n",
       "      <th>bmi</th>\n",
       "      <th>map</th>\n",
       "      <th>clusters</th>\n",
       "    </tr>\n",
       "  </thead>\n",
       "  <tbody>\n",
       "    <tr>\n",
       "      <td>1</td>\n",
       "      <td>20228</td>\n",
       "      <td>1</td>\n",
       "      <td>3</td>\n",
       "      <td>1</td>\n",
       "      <td>0</td>\n",
       "      <td>0</td>\n",
       "      <td>1</td>\n",
       "      <td>34.850994</td>\n",
       "      <td>106.666667</td>\n",
       "      <td>4</td>\n",
       "    </tr>\n",
       "    <tr>\n",
       "      <td>2</td>\n",
       "      <td>18857</td>\n",
       "      <td>1</td>\n",
       "      <td>3</td>\n",
       "      <td>1</td>\n",
       "      <td>0</td>\n",
       "      <td>0</td>\n",
       "      <td>0</td>\n",
       "      <td>23.456193</td>\n",
       "      <td>90.000000</td>\n",
       "      <td>2</td>\n",
       "    </tr>\n",
       "    <tr>\n",
       "      <td>3</td>\n",
       "      <td>17623</td>\n",
       "      <td>2</td>\n",
       "      <td>1</td>\n",
       "      <td>1</td>\n",
       "      <td>0</td>\n",
       "      <td>0</td>\n",
       "      <td>1</td>\n",
       "      <td>28.647444</td>\n",
       "      <td>116.666667</td>\n",
       "      <td>1</td>\n",
       "    </tr>\n",
       "    <tr>\n",
       "      <td>7</td>\n",
       "      <td>22584</td>\n",
       "      <td>2</td>\n",
       "      <td>3</td>\n",
       "      <td>3</td>\n",
       "      <td>0</td>\n",
       "      <td>0</td>\n",
       "      <td>1</td>\n",
       "      <td>29.917758</td>\n",
       "      <td>103.333333</td>\n",
       "      <td>4</td>\n",
       "    </tr>\n",
       "    <tr>\n",
       "      <td>15</td>\n",
       "      <td>16782</td>\n",
       "      <td>2</td>\n",
       "      <td>1</td>\n",
       "      <td>1</td>\n",
       "      <td>0</td>\n",
       "      <td>0</td>\n",
       "      <td>0</td>\n",
       "      <td>37.775182</td>\n",
       "      <td>93.333333</td>\n",
       "      <td>2</td>\n",
       "    </tr>\n",
       "  </tbody>\n",
       "</table>\n",
       "</div>"
      ],
      "text/plain": [
       "      age  gender  cholesterol  gluc  smoke  alco  active        bmi  \\\n",
       "1   20228       1            3     1      0     0       1  34.850994   \n",
       "2   18857       1            3     1      0     0       0  23.456193   \n",
       "3   17623       2            1     1      0     0       1  28.647444   \n",
       "7   22584       2            3     3      0     0       1  29.917758   \n",
       "15  16782       2            1     1      0     0       0  37.775182   \n",
       "\n",
       "           map  clusters  \n",
       "1   106.666667         4  \n",
       "2    90.000000         2  \n",
       "3   116.666667         1  \n",
       "7   103.333333         4  \n",
       "15   93.333333         2  "
      ]
     },
     "execution_count": 103,
     "metadata": {},
     "output_type": "execute_result"
    }
   ],
   "source": [
    "select_df2['clusters'] = labels\n",
    "# select_df2.head()"
   ]
  },
  {
   "cell_type": "code",
   "execution_count": 104,
   "metadata": {},
   "outputs": [
    {
     "data": {
      "text/plain": [
       "['age',\n",
       " 'gender',\n",
       " 'cholesterol',\n",
       " 'gluc',\n",
       " 'smoke',\n",
       " 'alco',\n",
       " 'active',\n",
       " 'bmi',\n",
       " 'map',\n",
       " 'clusters']"
      ]
     },
     "execution_count": 104,
     "metadata": {},
     "output_type": "execute_result"
    }
   ],
   "source": [
    "# add the cluster column to the feature list\n",
    "# cardio_features.extend(['clusters'])\n",
    "# cardio_features"
   ]
  },
  {
   "cell_type": "code",
   "execution_count": 131,
   "metadata": {},
   "outputs": [
    {
     "name": "stdout",
     "output_type": "stream",
     "text": [
      "                   age    gender  cholesterol      gluc     smoke  alco  \\\n",
      "clusters                                                                  \n",
      "0         20564.242993  1.235307     2.449141  2.706826  0.047468  0.00   \n",
      "1         19873.791891  1.999601     1.344717  1.077392  0.164270  0.00   \n",
      "2         19735.732084  1.683021     1.675303  1.326351  0.452591  1.00   \n",
      "3         20066.934352  1.000000     1.374021  1.040382  0.013119  0.00   \n",
      "4         19273.100000  1.350000     1.450000  1.400000  0.050000  0.15   \n",
      "\n",
      "            active        bmi          map  \n",
      "clusters                                    \n",
      "0         0.789557  30.056903   116.413954  \n",
      "1         0.779708  27.262022   117.424373  \n",
      "2         0.828556  28.995670   122.444322  \n",
      "3         0.791179  28.638399   113.648041  \n",
      "4         0.900000  27.493610  5350.033333  \n"
     ]
    }
   ],
   "source": [
    "print(select_df2[cardio_features].groupby(['clusters']).mean())"
   ]
  },
  {
   "cell_type": "code",
   "execution_count": 117,
   "metadata": {},
   "outputs": [
    {
     "data": {
      "text/html": [
       "<div>\n",
       "<style scoped>\n",
       "    .dataframe tbody tr th:only-of-type {\n",
       "        vertical-align: middle;\n",
       "    }\n",
       "\n",
       "    .dataframe tbody tr th {\n",
       "        vertical-align: top;\n",
       "    }\n",
       "\n",
       "    .dataframe thead th {\n",
       "        text-align: right;\n",
       "    }\n",
       "</style>\n",
       "<table border=\"1\" class=\"dataframe\">\n",
       "  <thead>\n",
       "    <tr style=\"text-align: right;\">\n",
       "      <th></th>\n",
       "      <th>clusters</th>\n",
       "      <th>age</th>\n",
       "    </tr>\n",
       "  </thead>\n",
       "  <tbody>\n",
       "    <tr>\n",
       "      <td>0</td>\n",
       "      <td>0</td>\n",
       "      <td>2092</td>\n",
       "    </tr>\n",
       "    <tr>\n",
       "      <td>1</td>\n",
       "      <td>1</td>\n",
       "      <td>18247</td>\n",
       "    </tr>\n",
       "    <tr>\n",
       "      <td>2</td>\n",
       "      <td>2</td>\n",
       "      <td>6063</td>\n",
       "    </tr>\n",
       "    <tr>\n",
       "      <td>3</td>\n",
       "      <td>3</td>\n",
       "      <td>1817</td>\n",
       "    </tr>\n",
       "    <tr>\n",
       "      <td>4</td>\n",
       "      <td>4</td>\n",
       "      <td>6576</td>\n",
       "    </tr>\n",
       "  </tbody>\n",
       "</table>\n",
       "</div>"
      ],
      "text/plain": [
       "   clusters    age\n",
       "0         0   2092\n",
       "1         1  18247\n",
       "2         2   6063\n",
       "3         3   1817\n",
       "4         4   6576"
      ]
     },
     "execution_count": 117,
     "metadata": {},
     "output_type": "execute_result"
    }
   ],
   "source": [
    "output_n = select_df2[['age','clusters']].groupby(['clusters'], as_index = False).count()\n",
    "\n",
    "output_n"
   ]
  },
  {
   "cell_type": "code",
   "execution_count": 138,
   "metadata": {},
   "outputs": [
    {
     "data": {
      "text/plain": [
       "0.5244144273602529"
      ]
     },
     "execution_count": 138,
     "metadata": {},
     "output_type": "execute_result"
    }
   ],
   "source": [
    "# percent in cluster 1\n",
    "18247/ 34795"
   ]
  },
  {
   "cell_type": "markdown",
   "metadata": {},
   "source": [
    "### Plots"
   ]
  },
  {
   "cell_type": "code",
   "execution_count": 118,
   "metadata": {},
   "outputs": [
    {
     "data": {
      "image/png": "[encoded data removed]",
      "text/plain": [
       "<Figure size 432x288 with 1 Axes>"
      ]
     },
     "metadata": {
      "needs_background": "light"
     },
     "output_type": "display_data"
    }
   ],
   "source": [
    "# Get the plot variables\n",
    "clusters = output_n['clusters'].values\n",
    "# get the values \n",
    "n = output_n['age'].values\n",
    "\n",
    "# Label the axes\n",
    "plt.xlabel('Cluster')\n",
    "plt.ylabel('Number of Patients')\n",
    "\n",
    "#label the figure\n",
    "plt.title('Patient Count by Cluster')\n",
    "\n",
    "\n",
    "# create\n",
    "plt.bar(clusters,n)\n",
    "plt.show()\n",
    "\n"
   ]
  },
  {
   "cell_type": "code",
   "execution_count": 109,
   "metadata": {},
   "outputs": [
    {
     "data": {
      "text/html": [
       "<div>\n",
       "<style scoped>\n",
       "    .dataframe tbody tr th:only-of-type {\n",
       "        vertical-align: middle;\n",
       "    }\n",
       "\n",
       "    .dataframe tbody tr th {\n",
       "        vertical-align: top;\n",
       "    }\n",
       "\n",
       "    .dataframe thead th {\n",
       "        text-align: right;\n",
       "    }\n",
       "</style>\n",
       "<table border=\"1\" class=\"dataframe\">\n",
       "  <thead>\n",
       "    <tr style=\"text-align: right;\">\n",
       "      <th></th>\n",
       "      <th>clusters</th>\n",
       "      <th>age</th>\n",
       "      <th>gender</th>\n",
       "      <th>cholesterol</th>\n",
       "      <th>gluc</th>\n",
       "      <th>smoke</th>\n",
       "      <th>alco</th>\n",
       "      <th>active</th>\n",
       "      <th>bmi</th>\n",
       "      <th>map</th>\n",
       "      <th>age_yrs</th>\n",
       "    </tr>\n",
       "  </thead>\n",
       "  <tbody>\n",
       "    <tr>\n",
       "      <td>0</td>\n",
       "      <td>0</td>\n",
       "      <td>19649.539197</td>\n",
       "      <td>1.851338</td>\n",
       "      <td>1.567400</td>\n",
       "      <td>1.269120</td>\n",
       "      <td>1.000000</td>\n",
       "      <td>0.0</td>\n",
       "      <td>0.808317</td>\n",
       "      <td>27.978445</td>\n",
       "      <td>122.277725</td>\n",
       "      <td>53.834354</td>\n",
       "    </tr>\n",
       "    <tr>\n",
       "      <td>1</td>\n",
       "      <td>1</td>\n",
       "      <td>19957.920480</td>\n",
       "      <td>1.308599</td>\n",
       "      <td>1.147038</td>\n",
       "      <td>1.042308</td>\n",
       "      <td>0.000000</td>\n",
       "      <td>0.0</td>\n",
       "      <td>1.000000</td>\n",
       "      <td>27.967330</td>\n",
       "      <td>118.555945</td>\n",
       "      <td>54.679234</td>\n",
       "    </tr>\n",
       "    <tr>\n",
       "      <td>2</td>\n",
       "      <td>2</td>\n",
       "      <td>20060.004783</td>\n",
       "      <td>1.320798</td>\n",
       "      <td>1.319809</td>\n",
       "      <td>1.126505</td>\n",
       "      <td>0.000000</td>\n",
       "      <td>0.0</td>\n",
       "      <td>0.000000</td>\n",
       "      <td>28.289592</td>\n",
       "      <td>111.908296</td>\n",
       "      <td>54.958917</td>\n",
       "    </tr>\n",
       "    <tr>\n",
       "      <td>3</td>\n",
       "      <td>3</td>\n",
       "      <td>19735.039626</td>\n",
       "      <td>1.682994</td>\n",
       "      <td>1.674739</td>\n",
       "      <td>1.326362</td>\n",
       "      <td>0.452394</td>\n",
       "      <td>1.0</td>\n",
       "      <td>0.828839</td>\n",
       "      <td>28.994345</td>\n",
       "      <td>131.903137</td>\n",
       "      <td>54.068602</td>\n",
       "    </tr>\n",
       "    <tr>\n",
       "      <td>4</td>\n",
       "      <td>4</td>\n",
       "      <td>20546.970955</td>\n",
       "      <td>1.258364</td>\n",
       "      <td>2.671229</td>\n",
       "      <td>2.061283</td>\n",
       "      <td>0.000912</td>\n",
       "      <td>0.0</td>\n",
       "      <td>0.917427</td>\n",
       "      <td>29.887076</td>\n",
       "      <td>119.807938</td>\n",
       "      <td>56.293071</td>\n",
       "    </tr>\n",
       "  </tbody>\n",
       "</table>\n",
       "</div>"
      ],
      "text/plain": [
       "   clusters           age    gender  cholesterol      gluc     smoke  alco  \\\n",
       "0         0  19649.539197  1.851338     1.567400  1.269120  1.000000   0.0   \n",
       "1         1  19957.920480  1.308599     1.147038  1.042308  0.000000   0.0   \n",
       "2         2  20060.004783  1.320798     1.319809  1.126505  0.000000   0.0   \n",
       "3         3  19735.039626  1.682994     1.674739  1.326362  0.452394   1.0   \n",
       "4         4  20546.970955  1.258364     2.671229  2.061283  0.000912   0.0   \n",
       "\n",
       "     active        bmi         map    age_yrs  \n",
       "0  0.808317  27.978445  122.277725  53.834354  \n",
       "1  1.000000  27.967330  118.555945  54.679234  \n",
       "2  0.000000  28.289592  111.908296  54.958917  \n",
       "3  0.828839  28.994345  131.903137  54.068602  \n",
       "4  0.917427  29.887076  119.807938  56.293071  "
      ]
     },
     "execution_count": 109,
     "metadata": {},
     "output_type": "execute_result"
    }
   ],
   "source": [
    "output = select_df2[cardio_features].groupby(['clusters'], as_index = False).mean()\n",
    "output['age_yrs'] = output['age']/365\n",
    "output"
   ]
  },
  {
   "cell_type": "code",
   "execution_count": 111,
   "metadata": {},
   "outputs": [
    {
     "data": {
      "image/png": "[encoded data removed]",
      "text/plain": [
       "<Figure size 432x288 with 1 Axes>"
      ]
     },
     "metadata": {
      "needs_background": "light"
     },
     "output_type": "display_data"
    }
   ],
   "source": [
    "# Get the plot variables\n",
    "clusters = output['clusters'].values\n",
    "# get the values \n",
    "age = output['age_yrs'].values\n",
    "\n",
    "# Label the axes\n",
    "plt.xlabel('Cluster')\n",
    "plt.ylabel('Mean Age')\n",
    "\n",
    "#label the figure\n",
    "plt.title('Mean Age by Cluster')\n",
    "\n",
    "\n",
    "# create\n",
    "plt.bar(clusters,age)\n",
    "plt.show()"
   ]
  },
  {
   "cell_type": "code",
   "execution_count": 112,
   "metadata": {},
   "outputs": [
    {
     "data": {
      "image/png": "[encoded data removed]",
      "text/plain": [
       "<Figure size 432x288 with 1 Axes>"
      ]
     },
     "metadata": {
      "needs_background": "light"
     },
     "output_type": "display_data"
    }
   ],
   "source": [
    "# Get the plot variables\n",
    "clusters = output['clusters'].values\n",
    "# get the values \n",
    "chol = output['cholesterol'].values\n",
    "\n",
    "# Label the axes\n",
    "plt.xlabel('Cluster')\n",
    "plt.ylabel('Cholesterol Level')\n",
    "\n",
    "#label the figure\n",
    "plt.title('Cholesterol Level by Cluster')\n",
    "\n",
    "\n",
    "# create\n",
    "plt.bar(clusters,chol)\n",
    "plt.show()"
   ]
  },
  {
   "cell_type": "code",
   "execution_count": 113,
   "metadata": {},
   "outputs": [
    {
     "data": {
      "image/png": "[encoded data removed]",
      "text/plain": [
       "<Figure size 432x288 with 1 Axes>"
      ]
     },
     "metadata": {
      "needs_background": "light"
     },
     "output_type": "display_data"
    }
   ],
   "source": [
    "# Get the plot variables\n",
    "clusters = output['clusters'].values\n",
    "# get the values \n",
    "gluc = output['gluc'].values\n",
    "\n",
    "# Label the axes\n",
    "plt.xlabel('Cluster')\n",
    "plt.ylabel('Glucose Level')\n",
    "\n",
    "#label the figure\n",
    "plt.title('Glucose Level by Cluster')\n",
    "\n",
    "\n",
    "# create\n",
    "plt.bar(clusters,gluc)\n",
    "plt.show()"
   ]
  },
  {
   "cell_type": "code",
   "execution_count": 119,
   "metadata": {},
   "outputs": [
    {
     "data": {
      "image/png": "[encoded data removed]",
      "text/plain": [
       "<Figure size 432x288 with 1 Axes>"
      ]
     },
     "metadata": {
      "needs_background": "light"
     },
     "output_type": "display_data"
    }
   ],
   "source": [
    "# Get the plot variables\n",
    "clusters = output['clusters'].values\n",
    "# get the values \n",
    "act = output['active'].values\n",
    "\n",
    "# Label the axes\n",
    "plt.xlabel('Cluster')\n",
    "plt.ylabel('Activity Level')\n",
    "\n",
    "#label the figure\n",
    "plt.title('Activity Level by Cluster')\n",
    "\n",
    "\n",
    "# create\n",
    "plt.bar(clusters,act)\n",
    "plt.show()"
   ]
  },
  {
   "cell_type": "code",
   "execution_count": 121,
   "metadata": {},
   "outputs": [
    {
     "data": {
      "image/png": "[encoded data removed]",
      "text/plain": [
       "<Figure size 432x288 with 1 Axes>"
      ]
     },
     "metadata": {
      "needs_background": "light"
     },
     "output_type": "display_data"
    }
   ],
   "source": [
    "# Get the plot variables\n",
    "clusters = output['clusters'].values\n",
    "# get the values \n",
    "bmi = output['bmi'].values\n",
    "\n",
    "# Label the axes\n",
    "plt.xlabel('Cluster')\n",
    "plt.ylabel('BMI')\n",
    "\n",
    "#label the figure\n",
    "plt.title('Body Mass Index by Cluster')\n",
    "\n",
    "\n",
    "# create\n",
    "plt.bar(clusters,bmi)\n",
    "plt.show()"
   ]
  },
  {
   "cell_type": "code",
   "execution_count": 122,
   "metadata": {},
   "outputs": [
    {
     "data": {
      "image/png": "[encoded data removed]",
      "text/plain": [
       "<Figure size 432x288 with 1 Axes>"
      ]
     },
     "metadata": {
      "needs_background": "light"
     },
     "output_type": "display_data"
    }
   ],
   "source": [
    "# Get the plot variables\n",
    "clusters = output['clusters'].values\n",
    "# get the values \n",
    "map = output['map'].values\n",
    "\n",
    "# Label the axes\n",
    "plt.xlabel('Cluster')\n",
    "plt.ylabel('MAP')\n",
    "\n",
    "#label the figure\n",
    "plt.title('Mean Arterial Pressure by Cluster')\n",
    "\n",
    "\n",
    "# create\n",
    "plt.bar(clusters,map)\n",
    "plt.show()"
   ]
  },
  {
   "cell_type": "code",
   "execution_count": 135,
   "metadata": {},
   "outputs": [
    {
     "data": {
      "text/html": [
       "<div>\n",
       "<style scoped>\n",
       "    .dataframe tbody tr th:only-of-type {\n",
       "        vertical-align: middle;\n",
       "    }\n",
       "\n",
       "    .dataframe tbody tr th {\n",
       "        vertical-align: top;\n",
       "    }\n",
       "\n",
       "    .dataframe thead th {\n",
       "        text-align: right;\n",
       "    }\n",
       "</style>\n",
       "<table border=\"1\" class=\"dataframe\">\n",
       "  <thead>\n",
       "    <tr style=\"text-align: right;\">\n",
       "      <th></th>\n",
       "      <th>clusters</th>\n",
       "      <th>smoke</th>\n",
       "      <th>alco</th>\n",
       "      <th>total_count</th>\n",
       "      <th>percent_smoke</th>\n",
       "      <th>percent_alco</th>\n",
       "    </tr>\n",
       "  </thead>\n",
       "  <tbody>\n",
       "    <tr>\n",
       "      <td>0</td>\n",
       "      <td>0</td>\n",
       "      <td>2092</td>\n",
       "      <td>0</td>\n",
       "      <td>2092</td>\n",
       "      <td>1.000000</td>\n",
       "      <td>0.0</td>\n",
       "    </tr>\n",
       "    <tr>\n",
       "      <td>1</td>\n",
       "      <td>1</td>\n",
       "      <td>0</td>\n",
       "      <td>0</td>\n",
       "      <td>18247</td>\n",
       "      <td>0.000000</td>\n",
       "      <td>0.0</td>\n",
       "    </tr>\n",
       "    <tr>\n",
       "      <td>2</td>\n",
       "      <td>2</td>\n",
       "      <td>0</td>\n",
       "      <td>0</td>\n",
       "      <td>6063</td>\n",
       "      <td>0.000000</td>\n",
       "      <td>0.0</td>\n",
       "    </tr>\n",
       "    <tr>\n",
       "      <td>3</td>\n",
       "      <td>3</td>\n",
       "      <td>822</td>\n",
       "      <td>1817</td>\n",
       "      <td>1817</td>\n",
       "      <td>0.452394</td>\n",
       "      <td>1.0</td>\n",
       "    </tr>\n",
       "    <tr>\n",
       "      <td>4</td>\n",
       "      <td>4</td>\n",
       "      <td>6</td>\n",
       "      <td>0</td>\n",
       "      <td>6576</td>\n",
       "      <td>0.000912</td>\n",
       "      <td>0.0</td>\n",
       "    </tr>\n",
       "  </tbody>\n",
       "</table>\n",
       "</div>"
      ],
      "text/plain": [
       "   clusters  smoke  alco  total_count  percent_smoke  percent_alco\n",
       "0         0   2092     0         2092       1.000000           0.0\n",
       "1         1      0     0        18247       0.000000           0.0\n",
       "2         2      0     0         6063       0.000000           0.0\n",
       "3         3    822  1817         1817       0.452394           1.0\n",
       "4         4      6     0         6576       0.000912           0.0"
      ]
     },
     "execution_count": 135,
     "metadata": {},
     "output_type": "execute_result"
    }
   ],
   "source": [
    "output_bin = select_df2[['clusters','smoke','alco']].groupby(['clusters'], as_index = False).agg({'smoke': ['sum','count'],\n",
    "                                                                                                 'alco': ['sum','count']})\n",
    "\n",
    "output_bin_cols = ['clusters','smoke','smoke_count','alco','total_count']\n",
    "\n",
    "output_bin.columns = output_bin_cols\n",
    "\n",
    "del output_bin['smoke_count']\n",
    "\n",
    "output_bin['percent_smoke'] = output_bin['smoke'] / output_bin['total_count']\n",
    "\n",
    "output_bin['percent_alco'] = output_bin['alco'] / output_bin['total_count']\n",
    "\n",
    "output_bin\n"
   ]
  },
  {
   "cell_type": "code",
   "execution_count": 136,
   "metadata": {},
   "outputs": [
    {
     "data": {
      "image/png": "[encoded data removed]",
      "text/plain": [
       "<Figure size 432x288 with 1 Axes>"
      ]
     },
     "metadata": {
      "needs_background": "light"
     },
     "output_type": "display_data"
    }
   ],
   "source": [
    "# Get the plot variables\n",
    "clusters = output_bin['clusters'].values\n",
    "# get the values \n",
    "smk = output_bin['percent_smoke'].values\n",
    "\n",
    "# Label the axes\n",
    "plt.xlabel('Cluster')\n",
    "plt.ylabel('Percent Smokers')\n",
    "\n",
    "#label the figure\n",
    "plt.title('Smoking Status by Cluster')\n",
    "\n",
    "\n",
    "# create\n",
    "plt.bar(clusters,smk)\n",
    "plt.show()"
   ]
  },
  {
   "cell_type": "code",
   "execution_count": 139,
   "metadata": {},
   "outputs": [
    {
     "data": {
      "image/png": "[encoded data removed]",
      "text/plain": [
       "<Figure size 432x288 with 1 Axes>"
      ]
     },
     "metadata": {
      "needs_background": "light"
     },
     "output_type": "display_data"
    }
   ],
   "source": [
    "# Get the plot variables\n",
    "clusters = output_bin['clusters'].values\n",
    "# get the values \n",
    "alc = output_bin['percent_alco'].values\n",
    "\n",
    "# Label the axes\n",
    "plt.xlabel('Cluster')\n",
    "plt.ylabel('Percent Alcohol Users')\n",
    "\n",
    "#label the figure\n",
    "plt.title('Alcohol Use by Cluster')\n",
    "\n",
    "\n",
    "# create\n",
    "plt.bar(clusters,alc)\n",
    "plt.show()"
   ]
  },
  {
   "cell_type": "code",
   "execution_count": 140,
   "metadata": {},
   "outputs": [
    {
     "data": {
      "text/plain": [
       "Text(28.29117187499999, 0.5, 'MAP')"
      ]
     },
     "execution_count": 140,
     "metadata": {},
     "output_type": "execute_result"
    },
    {
     "data": {
      "image/png": "[encoded data removed]",
      "text/plain": [
       "<Figure size 407.375x360 with 1 Axes>"
      ]
     },
     "metadata": {
      "needs_background": "light"
     },
     "output_type": "display_data"
    }
   ],
   "source": [
    "#Scatter plot \n",
    "from scipy import stats\n",
    "import seaborn as sns\n",
    "\n",
    "\n",
    "sns.lmplot('bmi', 'map', \n",
    "           data=select_df2, \n",
    "           fit_reg=False, \n",
    "           hue=\"clusters\",  \n",
    "           scatter_kws={\"marker\": \"D\", \n",
    "                        \"s\": 100})\n",
    "plt.title('BMI vs. MAP')\n",
    "plt.xlabel('BMI')\n",
    "plt.ylabel('MAP')"
   ]
  },
  {
   "cell_type": "code",
   "execution_count": 134,
   "metadata": {},
   "outputs": [
    {
     "data": {
      "text/plain": [
       "Text(28.29117187499999, 0.5, 'MAP')"
      ]
     },
     "execution_count": 134,
     "metadata": {},
     "output_type": "execute_result"
    },
    {
     "data": {
      "image/png": "[encoded data removed]",
      "text/plain": [
       "<Figure size 407.375x360 with 1 Axes>"
      ]
     },
     "metadata": {
      "needs_background": "light"
     },
     "output_type": "display_data"
    }
   ],
   "source": [
    "#Scatter plot \n",
    "from scipy import stats\n",
    "import seaborn as sns\n",
    "\n",
    "\n",
    "sns.lmplot('age', 'map', \n",
    "           data=select_df2, \n",
    "           fit_reg=False, \n",
    "           hue=\"clusters\",  \n",
    "           scatter_kws={\"marker\": \"D\", \n",
    "                        \"s\": 100})\n",
    "plt.title('Age vs. MAP')\n",
    "plt.xlabel('Age')\n",
    "plt.ylabel('MAP')"
   ]
  },
  {
   "cell_type": "code",
   "execution_count": null,
   "metadata": {},
   "outputs": [],
   "source": []
  },
  {
   "cell_type": "code",
   "execution_count": 135,
   "metadata": {},
   "outputs": [
    {
     "data": {
      "text/plain": [
       "Text(27.468689236111118, 0.5, 'BMI')"
      ]
     },
     "execution_count": 135,
     "metadata": {},
     "output_type": "execute_result"
    },
    {
     "data": {
      "image/png": "[encoded data removed]",
      "text/plain": [
       "<Figure size 407.375x360 with 1 Axes>"
      ]
     },
     "metadata": {
      "needs_background": "light"
     },
     "output_type": "display_data"
    }
   ],
   "source": [
    "#Scatter plot \n",
    "from scipy import stats\n",
    "import seaborn as sns\n",
    "\n",
    "\n",
    "sns.lmplot('age', 'bmi', \n",
    "           data=select_df2, \n",
    "           fit_reg=False, \n",
    "           hue=\"clusters\",  \n",
    "           scatter_kws={\"marker\": \"D\", \n",
    "                        \"s\": 100})\n",
    "plt.title('Age vs. BMI')\n",
    "plt.xlabel('Age')\n",
    "plt.ylabel('BMI')"
   ]
  },
  {
   "cell_type": "code",
   "execution_count": 137,
   "metadata": {},
   "outputs": [
    {
     "data": {
      "text/plain": [
       "count    34795.000000\n",
       "mean         1.991407\n",
       "std          1.153685\n",
       "min          0.000000\n",
       "25%          1.000000\n",
       "50%          3.000000\n",
       "75%          3.000000\n",
       "max          4.000000\n",
       "Name: clusters, dtype: float64"
      ]
     },
     "execution_count": 137,
     "metadata": {},
     "output_type": "execute_result"
    }
   ],
   "source": [
    "select_df2['clusters'].describe()"
   ]
  },
  {
   "cell_type": "code",
   "execution_count": 146,
   "metadata": {},
   "outputs": [
    {
     "data": {
      "text/html": [
       "<div>\n",
       "<style scoped>\n",
       "    .dataframe tbody tr th:only-of-type {\n",
       "        vertical-align: middle;\n",
       "    }\n",
       "\n",
       "    .dataframe tbody tr th {\n",
       "        vertical-align: top;\n",
       "    }\n",
       "\n",
       "    .dataframe thead th {\n",
       "        text-align: right;\n",
       "    }\n",
       "</style>\n",
       "<table border=\"1\" class=\"dataframe\">\n",
       "  <thead>\n",
       "    <tr style=\"text-align: right;\">\n",
       "      <th></th>\n",
       "      <th>pt_count</th>\n",
       "    </tr>\n",
       "    <tr>\n",
       "      <th>clusters</th>\n",
       "      <th></th>\n",
       "    </tr>\n",
       "  </thead>\n",
       "  <tbody>\n",
       "    <tr>\n",
       "      <td>0</td>\n",
       "      <td>4424</td>\n",
       "    </tr>\n",
       "    <tr>\n",
       "      <td>1</td>\n",
       "      <td>10014</td>\n",
       "    </tr>\n",
       "    <tr>\n",
       "      <td>2</td>\n",
       "      <td>1814</td>\n",
       "    </tr>\n",
       "    <tr>\n",
       "      <td>3</td>\n",
       "      <td>18523</td>\n",
       "    </tr>\n",
       "    <tr>\n",
       "      <td>4</td>\n",
       "      <td>20</td>\n",
       "    </tr>\n",
       "  </tbody>\n",
       "</table>\n",
       "</div>"
      ],
      "text/plain": [
       "          pt_count\n",
       "clusters          \n",
       "0             4424\n",
       "1            10014\n",
       "2             1814\n",
       "3            18523\n",
       "4               20"
      ]
     },
     "execution_count": 146,
     "metadata": {},
     "output_type": "execute_result"
    }
   ],
   "source": [
    "select_df2['pt_count'] = 1\n",
    "\n",
    "select_df2[['clusters','pt_count']].groupby(['clusters']).sum()"
   ]
  },
  {
   "cell_type": "code",
   "execution_count": 145,
   "metadata": {},
   "outputs": [
    {
     "data": {
      "text/plain": [
       "<seaborn.axisgrid.PairGrid at 0x1a45662f90>"
      ]
     },
     "execution_count": 145,
     "metadata": {},
     "output_type": "execute_result"
    },
    {
     "data": {
      "image/png": "[encoded data removed]",
      "text/plain": [
       "<Figure size 1485.85x1440 with 72 Axes>"
      ]
     },
     "metadata": {},
     "output_type": "display_data"
    }
   ],
   "source": [
    "matrix = select_df2[['clusters','map','bmi','cholesterol','gluc','active','alco','smoke']].copy()\n",
    "\n",
    "sns.set(style=\"ticks\")\n",
    "\n",
    "sns.pairplot(matrix, hue=\"clusters\")"
   ]
  }
 ],
 "metadata": {
  "kernelspec": {
   "display_name": "Python 3",
   "language": "python",
   "name": "python3"
  },
  "language_info": {
   "codemirror_mode": {
    "name": "ipython",
    "version": 3
   },
   "file_extension": ".py",
   "mimetype": "text/x-python",
   "name": "python",
   "nbconvert_exporter": "python",
   "pygments_lexer": "ipython3",
   "version": "3.7.4"
  }
 },
 "nbformat": 4,
 "nbformat_minor": 2
}
